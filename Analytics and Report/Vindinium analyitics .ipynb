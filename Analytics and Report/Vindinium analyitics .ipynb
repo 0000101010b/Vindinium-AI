{
 "cells": [
  {
   "cell_type": "code",
   "execution_count": 13,
   "metadata": {
    "collapsed": false
   },
   "outputs": [
    {
     "data": {
      "text/html": [
       "<div>\n",
       "<table border=\"1\" class=\"dataframe\">\n",
       "  <thead>\n",
       "    <tr style=\"text-align: right;\">\n",
       "      <th></th>\n",
       "      <th>Unnamed: 0</th>\n",
       "      <th>Health</th>\n",
       "      <th>Mines Owned</th>\n",
       "      <th>Pub Dist</th>\n",
       "      <th>Mine Dist</th>\n",
       "      <th>Enemy Dist</th>\n",
       "      <th>action</th>\n",
       "      <th>prob</th>\n",
       "    </tr>\n",
       "  </thead>\n",
       "  <tbody>\n",
       "    <tr>\n",
       "      <th>0</th>\n",
       "      <td>0</td>\n",
       "      <td>high</td>\n",
       "      <td>0.0</td>\n",
       "      <td>1.0</td>\n",
       "      <td>0.0</td>\n",
       "      <td>4.0</td>\n",
       "      <td>Attack</td>\n",
       "      <td>0.010870</td>\n",
       "    </tr>\n",
       "    <tr>\n",
       "      <th>1</th>\n",
       "      <td>1</td>\n",
       "      <td>high</td>\n",
       "      <td>0.0</td>\n",
       "      <td>0.0</td>\n",
       "      <td>1.0</td>\n",
       "      <td>4.0</td>\n",
       "      <td>Attack</td>\n",
       "      <td>0.501965</td>\n",
       "    </tr>\n",
       "    <tr>\n",
       "      <th>2</th>\n",
       "      <td>2</td>\n",
       "      <td>high</td>\n",
       "      <td>0.0</td>\n",
       "      <td>1.0</td>\n",
       "      <td>0.0</td>\n",
       "      <td>4.0</td>\n",
       "      <td>goPub</td>\n",
       "      <td>0.013131</td>\n",
       "    </tr>\n",
       "    <tr>\n",
       "      <th>3</th>\n",
       "      <td>3</td>\n",
       "      <td>high</td>\n",
       "      <td>0.0</td>\n",
       "      <td>1.0</td>\n",
       "      <td>1.0</td>\n",
       "      <td>3.0</td>\n",
       "      <td>goPub</td>\n",
       "      <td>0.500944</td>\n",
       "    </tr>\n",
       "    <tr>\n",
       "      <th>4</th>\n",
       "      <td>4</td>\n",
       "      <td>high</td>\n",
       "      <td>0.0</td>\n",
       "      <td>1.0</td>\n",
       "      <td>1.0</td>\n",
       "      <td>4.0</td>\n",
       "      <td>goMine</td>\n",
       "      <td>0.759866</td>\n",
       "    </tr>\n",
       "  </tbody>\n",
       "</table>\n",
       "</div>"
      ],
      "text/plain": [
       "   Unnamed: 0 Health  Mines Owned  Pub Dist  Mine Dist  Enemy Dist  action  \\\n",
       "0           0   high          0.0       1.0        0.0         4.0  Attack   \n",
       "1           1   high          0.0       0.0        1.0         4.0  Attack   \n",
       "2           2   high          0.0       1.0        0.0         4.0   goPub   \n",
       "3           3   high          0.0       1.0        1.0         3.0   goPub   \n",
       "4           4   high          0.0       1.0        1.0         4.0  goMine   \n",
       "\n",
       "       prob  \n",
       "0  0.010870  \n",
       "1  0.501965  \n",
       "2  0.013131  \n",
       "3  0.500944  \n",
       "4  0.759866  "
      ]
     },
     "execution_count": 13,
     "metadata": {},
     "output_type": "execute_result"
    }
   ],
   "source": [
    "import pandas as pd\n",
    "import numpy as np\n",
    "import plotly.plotly as py\n",
    "import plotly.graph_objs as go\n",
    "py.sign_in('ATAR0', 'fxvAbv3ZroHGlIOsXGqV')\n",
    "\n",
    "# Import data from csv\n",
    "df = pd.read_csv('GameInformation.csv')\n",
    "df.head()\n",
    "\n"
   ]
  },
  {
   "cell_type": "code",
   "execution_count": 53,
   "metadata": {
    "collapsed": false
   },
   "outputs": [
    {
     "name": "stdout",
     "output_type": "stream",
     "text": [
      "prob    0.764765\n",
      "dtype: float64\n",
      "prob    0.751547\n",
      "dtype: float64\n",
      "prob    0.769719\n",
      "dtype: float64\n"
     ]
    },
    {
     "data": {
      "text/html": [
       "<iframe id=\"igraph\" scrolling=\"no\" style=\"border:none;\" seamless=\"seamless\" src=\"https://plot.ly/~ATAR0/2.embed\" height=\"525px\" width=\"100%\"></iframe>"
      ],
      "text/plain": [
       "<plotly.tools.PlotlyDisplay object>"
      ]
     },
     "execution_count": 53,
     "metadata": {},
     "output_type": "execute_result"
    }
   ],
   "source": [
    "'''\n",
    "trace1 = go.Scatter(\n",
    "                    x=df['High'], y=df['prob'], # Data\n",
    "                    mode='lines', name='logx' # Additional options\n",
    "                   )\n",
    "#trace2 = go.Scatter(x=df['x'], y=df['sinx'], mode='lines', name='sinx' )\n",
    "#trace3 = go.Scatter(x=df['x'], y=df['cosx'], mode='lines', name='cosx')\n",
    "\n",
    "layout = go.Layout(title='Simple Plot from csv data',\n",
    "                   plot_bgcolor='rgb(230, 230,230)')\n",
    "\n",
    "fig = go.Figure(data=[trace1], layout=layout)\n",
    "\n",
    "# Plot data in the notebook\n",
    "py.iplot(fig, filename='simple-plot-from-csv')\n",
    "'''\n",
    "\n",
    "\n",
    "\n",
    "high=df.loc[df['Health']=='high']\n",
    "highGoMine=high.loc[high['action']=='goMine',['prob']]\n",
    "\n",
    "print(highGoMine.mean())\n",
    "\n",
    "low=df.loc[df['Health']=='low']\n",
    "lowGoMine=low.loc[low['action']=='goMine',['prob']]\n",
    "\n",
    "print(lowGoMine.mean())\n",
    "\n",
    "meduim=df.loc[df['Health']=='medium']\n",
    "\n",
    "meduimGoMine=meduim.loc[meduim['action']=='goMine',['prob']]\n",
    "print(meduimGoMine.mean())\n",
    "\n",
    "data = [go.Bar(\n",
    "            x=df['Health'].unique(),\n",
    "            y=[highGoMine.mean(),meduimGoMine.mean(), lowGoMine.mean()]\n",
    "    )]\n",
    "py.iplot(data, filename='basic-bar')\n",
    "\n"
   ]
  },
  {
   "cell_type": "code",
   "execution_count": 56,
   "metadata": {
    "collapsed": false
   },
   "outputs": [
    {
     "name": "stdout",
     "output_type": "stream",
     "text": [
      "prob    0.504718\n",
      "dtype: float64\n",
      "prob    0.516056\n",
      "dtype: float64\n",
      "prob    0.519672\n",
      "dtype: float64\n"
     ]
    },
    {
     "data": {
      "text/html": [
       "<iframe id=\"igraph\" scrolling=\"no\" style=\"border:none;\" seamless=\"seamless\" src=\"https://plot.ly/~ATAR0/2.embed\" height=\"525px\" width=\"100%\"></iframe>"
      ],
      "text/plain": [
       "<plotly.tools.PlotlyDisplay object>"
      ]
     },
     "execution_count": 56,
     "metadata": {},
     "output_type": "execute_result"
    }
   ],
   "source": [
    "high=df.loc[df['Health']=='high']\n",
    "highGoMine=high.loc[high['action']=='goPub',['prob']]\n",
    "\n",
    "print(highGoMine.mean())\n",
    "\n",
    "low=df.loc[df['Health']=='low']\n",
    "lowGoMine=low.loc[low['action']=='goPub',['prob']]\n",
    "\n",
    "print(lowGoMine.mean())\n",
    "\n",
    "meduim=df.loc[df['Health']=='medium']\n",
    "\n",
    "meduimGoMine=meduim.loc[meduim['action']=='goPub',['prob']]\n",
    "print(meduimGoMine.mean())\n",
    "\n",
    "\n",
    "\n",
    "\n",
    "data = [go.Bar(\n",
    "            x=df['Health'].unique(),\n",
    "            y=[highGoMine.mean(),meduimGoMine.mean(), lowGoMine.mean()]\n",
    "    )]\n",
    "py.iplot(data, filename='basic-bar')\n",
    "\n"
   ]
  },
  {
   "cell_type": "code",
   "execution_count": 58,
   "metadata": {
    "collapsed": false
   },
   "outputs": [
    {
     "name": "stdout",
     "output_type": "stream",
     "text": [
      "prob    0.509118\n",
      "dtype: float64\n",
      "prob    0.522307\n",
      "dtype: float64\n",
      "prob    0.522117\n",
      "dtype: float64\n"
     ]
    },
    {
     "data": {
      "text/html": [
       "<iframe id=\"igraph\" scrolling=\"no\" style=\"border:none;\" seamless=\"seamless\" src=\"https://plot.ly/~ATAR0/2.embed\" height=\"525px\" width=\"100%\"></iframe>"
      ],
      "text/plain": [
       "<plotly.tools.PlotlyDisplay object>"
      ]
     },
     "execution_count": 58,
     "metadata": {},
     "output_type": "execute_result"
    }
   ],
   "source": [
    "high=df.loc[df['Health']=='high']\n",
    "highGoMine=high.loc[high['action']=='Attack',['prob']]\n",
    "\n",
    "print(highGoMine.mean())\n",
    "\n",
    "low=df.loc[df['Health']=='low']\n",
    "lowGoMine=low.loc[low['action']=='Attack',['prob']]\n",
    "\n",
    "print(lowGoMine.mean())\n",
    "\n",
    "meduim=df.loc[df['Health']=='medium']\n",
    "\n",
    "meduimGoMine=meduim.loc[meduim['action']=='Attack',['prob']]\n",
    "print(meduimGoMine.mean())\n",
    "\n",
    "\n",
    "\n",
    "\n",
    "data = [go.Bar(\n",
    "            x=df['Health'].unique(),\n",
    "            y=[highGoMine.mean(),meduimGoMine.mean(), lowGoMine.mean()]\n",
    "    )]\n",
    "py.iplot(data, filename='basic-bar')\n"
   ]
  },
  {
   "cell_type": "code",
   "execution_count": null,
   "metadata": {
    "collapsed": true
   },
   "outputs": [],
   "source": []
  }
 ],
 "metadata": {
  "anaconda-cloud": {},
  "kernelspec": {
   "display_name": "Python [conda root]",
   "language": "python",
   "name": "conda-root-py"
  },
  "language_info": {
   "codemirror_mode": {
    "name": "ipython",
    "version": 3
   },
   "file_extension": ".py",
   "mimetype": "text/x-python",
   "name": "python",
   "nbconvert_exporter": "python",
   "pygments_lexer": "ipython3",
   "version": "3.5.2"
  }
 },
 "nbformat": 4,
 "nbformat_minor": 1
}
